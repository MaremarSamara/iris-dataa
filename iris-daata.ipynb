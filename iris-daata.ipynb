{
 "cells": [
  {
   "cell_type": "code",
   "execution_count": 169,
   "metadata": {},
   "outputs": [],
   "source": [
    "import pandas as pd\n",
    "import numpy as np\n",
    "import matplotlib.pyplot as plt\n",
    "import seaborn as sns"
   ]
  },
  {
   "cell_type": "code",
   "execution_count": 148,
   "metadata": {},
   "outputs": [],
   "source": [
    " df = pd.read_csv('iris-data')\n"
   ]
  },
  {
   "cell_type": "code",
   "execution_count": 187,
   "metadata": {},
   "outputs": [
    {
     "data": {
      "text/html": [
       "<div>\n",
       "<style scoped>\n",
       "    .dataframe tbody tr th:only-of-type {\n",
       "        vertical-align: middle;\n",
       "    }\n",
       "\n",
       "    .dataframe tbody tr th {\n",
       "        vertical-align: top;\n",
       "    }\n",
       "\n",
       "    .dataframe thead th {\n",
       "        text-align: right;\n",
       "    }\n",
       "</style>\n",
       "<table border=\"1\" class=\"dataframe\">\n",
       "  <thead>\n",
       "    <tr style=\"text-align: right;\">\n",
       "      <th></th>\n",
       "      <th></th>\n",
       "      <th>s</th>\n",
       "      <th>e</th>\n",
       "      <th>p</th>\n",
       "      <th>a</th>\n",
       "      <th>l</th>\n",
       "      <th>_</th>\n",
       "      <th>l</th>\n",
       "      <th>e</th>\n",
       "      <th>n</th>\n",
       "      <th>...</th>\n",
       "      <th>r</th>\n",
       "      <th>i</th>\n",
       "      <th>s</th>\n",
       "      <th>_</th>\n",
       "      <th>c</th>\n",
       "      <th>l</th>\n",
       "      <th>a</th>\n",
       "      <th>s</th>\n",
       "      <th>s</th>\n",
       "      <th></th>\n",
       "    </tr>\n",
       "  </thead>\n",
       "  <tbody>\n",
       "  </tbody>\n",
       "</table>\n",
       "<p>0 rows × 83 columns</p>\n",
       "</div>"
      ],
      "text/plain": [
       "Empty DataFrame\n",
       "Columns: [ , s, e, p, a, l, _, l, e, n, g, t, h, _, c, m,  ,  , ,,  , s, e, p, a, l, _, w, i, d, t, h, _, c, m,  , ,,  , p, e, t, a, l, _, l, e, n, g, t, h, _, c, m,  , ,,  , p, e, t, a, l, _, w, i, d, t, h, _, c, m,  , ,,  , i, r, i, s, _, c, l, a, s, s,  ]\n",
       "Index: []\n",
       "\n",
       "[0 rows x 83 columns]"
      ]
     },
     "execution_count": 187,
     "metadata": {},
     "output_type": "execute_result"
    }
   ],
   "source": [
    "df = pd.DataFrame(  columns=list(' sepal_length_cm  , sepal_width_cm , petal_length_cm , petal_width_cm , iris_class ' ))\n",
    "df"
   ]
  },
  {
   "cell_type": "code",
   "execution_count": 188,
   "metadata": {},
   "outputs": [
    {
     "data": {
      "text/html": [
       "<div>\n",
       "<style scoped>\n",
       "    .dataframe tbody tr th:only-of-type {\n",
       "        vertical-align: middle;\n",
       "    }\n",
       "\n",
       "    .dataframe tbody tr th {\n",
       "        vertical-align: top;\n",
       "    }\n",
       "\n",
       "    .dataframe thead th {\n",
       "        text-align: right;\n",
       "    }\n",
       "</style>\n",
       "<table border=\"1\" class=\"dataframe\">\n",
       "  <thead>\n",
       "    <tr style=\"text-align: right;\">\n",
       "      <th></th>\n",
       "      <th></th>\n",
       "      <th>s</th>\n",
       "      <th>e</th>\n",
       "      <th>p</th>\n",
       "      <th>a</th>\n",
       "      <th>l</th>\n",
       "      <th>_</th>\n",
       "      <th>l</th>\n",
       "      <th>e</th>\n",
       "      <th>n</th>\n",
       "      <th>...</th>\n",
       "      <th>r</th>\n",
       "      <th>i</th>\n",
       "      <th>s</th>\n",
       "      <th>_</th>\n",
       "      <th>c</th>\n",
       "      <th>l</th>\n",
       "      <th>a</th>\n",
       "      <th>s</th>\n",
       "      <th>s</th>\n",
       "      <th></th>\n",
       "    </tr>\n",
       "  </thead>\n",
       "  <tbody>\n",
       "  </tbody>\n",
       "</table>\n",
       "<p>0 rows × 83 columns</p>\n",
       "</div>"
      ],
      "text/plain": [
       "Empty DataFrame\n",
       "Columns: [ , s, e, p, a, l, _, l, e, n, g, t, h, _, c, m,  ,  , ,,  , s, e, p, a, l, _, w, i, d, t, h, _, c, m,  , ,,  , p, e, t, a, l, _, l, e, n, g, t, h, _, c, m,  , ,,  , p, e, t, a, l, _, w, i, d, t, h, _, c, m,  , ,,  , i, r, i, s, _, c, l, a, s, s,  ]\n",
       "Index: []\n",
       "\n",
       "[0 rows x 83 columns]"
      ]
     },
     "execution_count": 188,
     "metadata": {},
     "output_type": "execute_result"
    }
   ],
   "source": [
    "df.head()"
   ]
  },
  {
   "cell_type": "code",
   "execution_count": 200,
   "metadata": {},
   "outputs": [
    {
     "data": {
      "text/html": [
       "<div>\n",
       "<style scoped>\n",
       "    .dataframe tbody tr th:only-of-type {\n",
       "        vertical-align: middle;\n",
       "    }\n",
       "\n",
       "    .dataframe tbody tr th {\n",
       "        vertical-align: top;\n",
       "    }\n",
       "\n",
       "    .dataframe thead th {\n",
       "        text-align: right;\n",
       "    }\n",
       "</style>\n",
       "<table border=\"1\" class=\"dataframe\">\n",
       "  <thead>\n",
       "    <tr style=\"text-align: right;\">\n",
       "      <th></th>\n",
       "      <th></th>\n",
       "      <th>s</th>\n",
       "      <th>e</th>\n",
       "      <th>p</th>\n",
       "      <th>a</th>\n",
       "      <th>l</th>\n",
       "      <th>_</th>\n",
       "      <th>l</th>\n",
       "      <th>e</th>\n",
       "      <th>n</th>\n",
       "      <th>...</th>\n",
       "      <th>r</th>\n",
       "      <th>i</th>\n",
       "      <th>s</th>\n",
       "      <th>_</th>\n",
       "      <th>c</th>\n",
       "      <th>l</th>\n",
       "      <th>a</th>\n",
       "      <th>s</th>\n",
       "      <th>s</th>\n",
       "      <th></th>\n",
       "    </tr>\n",
       "  </thead>\n",
       "  <tbody>\n",
       "    <tr>\n",
       "      <th>count</th>\n",
       "      <td>0</td>\n",
       "      <td>0</td>\n",
       "      <td>0</td>\n",
       "      <td>0</td>\n",
       "      <td>0</td>\n",
       "      <td>0</td>\n",
       "      <td>0</td>\n",
       "      <td>0</td>\n",
       "      <td>0</td>\n",
       "      <td>0</td>\n",
       "      <td>...</td>\n",
       "      <td>0</td>\n",
       "      <td>0</td>\n",
       "      <td>0</td>\n",
       "      <td>0</td>\n",
       "      <td>0</td>\n",
       "      <td>0</td>\n",
       "      <td>0</td>\n",
       "      <td>0</td>\n",
       "      <td>0</td>\n",
       "      <td>0</td>\n",
       "    </tr>\n",
       "    <tr>\n",
       "      <th>unique</th>\n",
       "      <td>0</td>\n",
       "      <td>0</td>\n",
       "      <td>0</td>\n",
       "      <td>0</td>\n",
       "      <td>0</td>\n",
       "      <td>0</td>\n",
       "      <td>0</td>\n",
       "      <td>0</td>\n",
       "      <td>0</td>\n",
       "      <td>0</td>\n",
       "      <td>...</td>\n",
       "      <td>0</td>\n",
       "      <td>0</td>\n",
       "      <td>0</td>\n",
       "      <td>0</td>\n",
       "      <td>0</td>\n",
       "      <td>0</td>\n",
       "      <td>0</td>\n",
       "      <td>0</td>\n",
       "      <td>0</td>\n",
       "      <td>0</td>\n",
       "    </tr>\n",
       "  </tbody>\n",
       "</table>\n",
       "<p>2 rows × 83 columns</p>\n",
       "</div>"
      ],
      "text/plain": [
       "           s  e  p  a  l  _  l  e  n ...  r  i  s  _  c  l  a  s  s   \n",
       "count   0  0  0  0  0  0  0  0  0  0 ...  0  0  0  0  0  0  0  0  0  0\n",
       "unique  0  0  0  0  0  0  0  0  0  0 ...  0  0  0  0  0  0  0  0  0  0\n",
       "\n",
       "[2 rows x 83 columns]"
      ]
     },
     "execution_count": 200,
     "metadata": {},
     "output_type": "execute_result"
    }
   ],
   "source": [
    " df.describe()"
   ]
  },
  {
   "cell_type": "code",
   "execution_count": 201,
   "metadata": {},
   "outputs": [],
   "source": [
    "my_arr=('petal_length_cm' , 'petal_width_cm' )"
   ]
  },
  {
   "cell_type": "code",
   "execution_count": 206,
   "metadata": {},
   "outputs": [],
   "source": [
    "df_iris1=np.array(my_arr)"
   ]
  },
  {
   "cell_type": "code",
   "execution_count": 159,
   "metadata": {},
   "outputs": [
    {
     "data": {
      "text/plain": [
       "<bound method DataFrame.append of Empty DataFrame\n",
       "Columns: [ , s, e, p, a, l, _, l, e, n, g, t, h, _, c, m,  ,  , ,,  , s, e, p, a, l, _, w, i, d, t, h, _, c, m,  , ,,  , p, e, t, a, l, _, l, e, n, g, t, h, _, c, m,  , ,,  , p, e, t, a, l, _, w, i, d, t, h, _, c, m,  , ,,  , i, r, i, s, _, c, l, a, s, s,  ]\n",
       "Index: []\n",
       "\n",
       "[0 rows x 83 columns]>"
      ]
     },
     "execution_count": 159,
     "metadata": {},
     "output_type": "execute_result"
    }
   ],
   "source": [
    "df.append"
   ]
  },
  {
   "cell_type": "code",
   "execution_count": 124,
   "metadata": {},
   "outputs": [
    {
     "data": {
      "text/plain": [
       "    NaN\n",
       "s   NaN\n",
       "e   NaN\n",
       "p   NaN\n",
       "a   NaN\n",
       "l   NaN\n",
       "_   NaN\n",
       "l   NaN\n",
       "e   NaN\n",
       "n   NaN\n",
       "g   NaN\n",
       "t   NaN\n",
       "h   NaN\n",
       "_   NaN\n",
       "c   NaN\n",
       "m   NaN\n",
       "    NaN\n",
       "    NaN\n",
       ",   NaN\n",
       "    NaN\n",
       "s   NaN\n",
       "e   NaN\n",
       "p   NaN\n",
       "a   NaN\n",
       "l   NaN\n",
       "_   NaN\n",
       "w   NaN\n",
       "i   NaN\n",
       "d   NaN\n",
       "t   NaN\n",
       "     ..\n",
       ",   NaN\n",
       "    NaN\n",
       "p   NaN\n",
       "e   NaN\n",
       "t   NaN\n",
       "a   NaN\n",
       "l   NaN\n",
       "_   NaN\n",
       "w   NaN\n",
       "i   NaN\n",
       "d   NaN\n",
       "t   NaN\n",
       "h   NaN\n",
       "_   NaN\n",
       "c   NaN\n",
       "m   NaN\n",
       "    NaN\n",
       ",   NaN\n",
       "    NaN\n",
       "i   NaN\n",
       "r   NaN\n",
       "i   NaN\n",
       "s   NaN\n",
       "_   NaN\n",
       "c   NaN\n",
       "l   NaN\n",
       "a   NaN\n",
       "s   NaN\n",
       "s   NaN\n",
       "    NaN\n",
       "Length: 83, dtype: float64"
      ]
     },
     "execution_count": 124,
     "metadata": {},
     "output_type": "execute_result"
    }
   ],
   "source": [
    "df_iris1=df.mean()\n",
    "df_iris1"
   ]
  },
  {
   "cell_type": "code",
   "execution_count": 199,
   "metadata": {},
   "outputs": [
    {
     "data": {
      "text/html": [
       "<div>\n",
       "<style scoped>\n",
       "    .dataframe tbody tr th:only-of-type {\n",
       "        vertical-align: middle;\n",
       "    }\n",
       "\n",
       "    .dataframe tbody tr th {\n",
       "        vertical-align: top;\n",
       "    }\n",
       "\n",
       "    .dataframe thead th {\n",
       "        text-align: right;\n",
       "    }\n",
       "</style>\n",
       "<table border=\"1\" class=\"dataframe\">\n",
       "  <thead>\n",
       "    <tr style=\"text-align: right;\">\n",
       "      <th></th>\n",
       "      <th></th>\n",
       "      <th>s</th>\n",
       "      <th>e</th>\n",
       "      <th>p</th>\n",
       "      <th>a</th>\n",
       "      <th>l</th>\n",
       "      <th>_</th>\n",
       "      <th>l</th>\n",
       "      <th>e</th>\n",
       "      <th>n</th>\n",
       "      <th>...</th>\n",
       "      <th>r</th>\n",
       "      <th>i</th>\n",
       "      <th>s</th>\n",
       "      <th>_</th>\n",
       "      <th>c</th>\n",
       "      <th>l</th>\n",
       "      <th>a</th>\n",
       "      <th>s</th>\n",
       "      <th>s</th>\n",
       "      <th></th>\n",
       "    </tr>\n",
       "  </thead>\n",
       "  <tbody>\n",
       "  </tbody>\n",
       "</table>\n",
       "<p>0 rows × 83 columns</p>\n",
       "</div>"
      ],
      "text/plain": [
       "Empty DataFrame\n",
       "Columns: [ , s, e, p, a, l, _, l, e, n, g, t, h, _, c, m,  ,  , ,,  , s, e, p, a, l, _, w, i, d, t, h, _, c, m,  , ,,  , p, e, t, a, l, _, l, e, n, g, t, h, _, c, m,  , ,,  , p, e, t, a, l, _, w, i, d, t, h, _, c, m,  , ,,  , i, r, i, s, _, c, l, a, s, s,  ]\n",
       "Index: []\n",
       "\n",
       "[0 rows x 83 columns]"
      ]
     },
     "execution_count": 199,
     "metadata": {},
     "output_type": "execute_result"
    }
   ],
   "source": [
    "\n",
    "df_iris2=df[df == 'petal_width_cm']\n",
    "df_iris2.append(df[df== 'petal_length_cm'])\n"
   ]
  },
  {
   "cell_type": "code",
   "execution_count": 198,
   "metadata": {},
   "outputs": [
    {
     "data": {
      "image/png": "[encoded data removed]",
      "text/plain": [
       "<Figure size 432x288 with 1 Axes>"
      ]
     },
     "metadata": {
      "needs_background": "light"
     },
     "output_type": "display_data"
    }
   ],
   "source": [
    "\n",
    "_ = plt.legend((' petal_width_cm',  'petal_width_cm'))\n",
    "_ = plt.xlabel('petal length (cm)')\n",
    "_ = plt.ylabel(' petal_width_cm')\n",
    "plt.show()"
   ]
  },
  {
   "cell_type": "code",
   "execution_count": null,
   "metadata": {},
   "outputs": [],
   "source": []
  },
  {
   "cell_type": "code",
   "execution_count": null,
   "metadata": {},
   "outputs": [],
   "source": []
  }
 ],
 "metadata": {
  "kernelspec": {
   "display_name": "Python 3",
   "language": "python",
   "name": "python3"
  },
  "language_info": {
   "codemirror_mode": {
    "name": "ipython",
    "version": 3
   },
   "file_extension": ".py",
   "mimetype": "text/x-python",
   "name": "python",
   "nbconvert_exporter": "python",
   "pygments_lexer": "ipython3",
   "version": "3.7.1"
  }
 },
 "nbformat": 4,
 "nbformat_minor": 2
}
